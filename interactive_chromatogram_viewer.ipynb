{
  "nbformat": 4,
  "nbformat_minor": 0,
  "metadata": {
    "colab": {
      "provenance": [],
      "include_colab_link": true
    },
    "kernelspec": {
      "name": "python3",
      "display_name": "Python 3"
    },
    "language_info": {
      "name": "python"
    }
  },
  "cells": [
    {
      "cell_type": "markdown",
      "metadata": {
        "id": "view-in-github",
        "colab_type": "text"
      },
      "source": [
        "<a href=\"https://colab.research.google.com/github/josocjo/Colab-akta-chromatogram-viewer/blob/master/interactive_chromatogram_viewer.ipynb\" target=\"_parent\"><img src=\"https://colab.research.google.com/assets/colab-badge.svg\" alt=\"Open In Colab\"/></a>"
      ]
    },
    {
      "cell_type": "code",
      "execution_count": null,
      "metadata": {
        "id": "8eoXbhlf26NC"
      },
      "outputs": [],
      "source": []
    },
    {
      "cell_type": "code",
      "source": [
        "#@title <b>💻 Executar aplicació interactiva</b> { display-mode: \"form\" }\n",
        "\n",
        "!git clone https://github.com/josocjo/Colab-akta-chromatogram-viewer.git\n",

        "\n",
        "%cd Colab-akta-chromatogram-viewer\n",
        "!pip install .\n",
        "from IPython.display import clear_output\n",
        "clear_output()\n",
        "\n",
        "import matplotlib.pyplot as plt\n",
        "import proteovis as pv\n",
        "import pandas as pd\n",
        "import ipywidgets as widgets\n",
        "import io\n",
        "import contextlib\n",
        "import warnings\n",
        "from IPython.display import display, clear_output\n",
        "\n",
        "upload = widgets.FileUpload(accept='.zip,.res,.result', multiple=False)\n",
        "boto = widgets.Button(description=\"Mostrar cromatograma\", button_style='success')\n",
        "\n",
        "display(widgets.HTML(\"<h3>Puja manualment el fitxer .zip, .res o .result:</h3>\"))\n",
        "display(upload)\n",
        "display(boto)\n",
        "\n",
        "def slider_text_pair(description, init, minv, maxv, step=1.0):\n",
        "    slider = widgets.FloatSlider(value=init, min=minv, max=maxv, step=step, description=description)\n",
        "    text = widgets.FloatText(value=init, layout=widgets.Layout(width=\"100px\"))\n",
        "    widgets.jslink((slider, 'value'), (text, 'value'))\n",
        "    return widgets.HBox([slider, text]), slider\n",
        "\n",
        "def plot_chromatogram(df, data, xmin, xmax, ymin, ymax,\n",
        "                      y2_label, y2_ymin, y2_ymax,\n",
        "                      show_fractions, tick_h, min_spacing, font_frac,\n",
        "                      font_title, font_labels, font_ticks, font_legend,\n",
        "                      nom_fitxer):\n",
        "\n",
        "    fig, ax1 = plt.subplots(figsize=(16, 6))\n",
        "    ax1.plot(df[\"mL\"], df[\"UV 1_280\"], label=\"UV 1_280\", color=\"blue\")\n",
        "    ax1.plot(df[\"mL\"], df[\"UV 2_260\"], label=\"UV 2_260\", color=\"red\")\n",
        "    ax1.set_xlim(xmin, xmax)\n",
        "    ax1.set_ylim(ymin, ymax)\n",
        "    ax1.set_xlabel(\"Elution volume (mL)\", fontsize=font_labels)\n",
        "    ax1.set_ylabel(\"Absorbance (mAU)\", fontsize=font_labels)\n",
        "    ax1.tick_params(axis='both', labelsize=font_ticks)\n",
        "    ax1.grid(True)\n",
        "\n",
        "    if show_fractions:\n",
        "        last_label_x = None\n",
        "        fractions = df[(df['Fractions'].notna()) & (df['mL'].between(xmin, xmax))].reset_index()\n",
        "        for i in range(len(fractions)):\n",
        "            x = fractions.loc[i, 'mL']\n",
        "            ax1.vlines(x, ymin, ymin + tick_h, color='red', linewidth=1)\n",
        "            if i % 2 == 0 and (last_label_x is None or abs(x - last_label_x) > min_spacing):\n",
        "                label = fractions.loc[i, 'Fractions']\n",
        "                try:\n",
        "                    txt = 'W' if str(label).lower() == 'waste' else str(int(label))\n",
        "                except ValueError:\n",
        "                    txt = str(label)\n",
        "                ax1.text(x, ymin + tick_h + 5, txt, color='black', fontsize=font_frac,\n",
        "                         ha='center', va='bottom', rotation=0, clip_on=False)\n",
        "                last_label_x = x\n",
        "\n",
        "    ax2 = None\n",
        "    if y2_label and y2_label in df.columns:\n",
        "        unit = \"\"\n",
        "        try:\n",
        "            unit = f\" ({data[y2_label]['unit']})\" if 'unit' in data[y2_label] else \"\"\n",
        "        except:\n",
        "            pass\n",
        "        label_with_unit = f\"{y2_label}{unit}\"\n",
        "        ax2 = ax1.twinx()\n",
        "        ax2.plot(df[\"mL\"], df[y2_label], label=label_with_unit, color=\"green\")\n",
        "        ax2.set_ylabel(label_with_unit, color=\"green\", fontsize=font_labels)\n",
        "        ax2.tick_params(axis='y', labelcolor='green', labelsize=font_ticks)\n",
        "        ax2.set_ylim(y2_ymin, y2_ymax)\n",
        "\n",
        "    handles1, labels1 = ax1.get_legend_handles_labels()\n",
        "    handles2, labels2 = ax2.get_legend_handles_labels() if ax2 else ([], [])\n",
        "    ax1.legend(handles1 + handles2, labels1 + labels2, loc='upper right', fontsize=font_legend)\n",
        "    fig.subplots_adjust(bottom=0.12)\n",
        "    fig.suptitle(f'Chromatogram – {nom_fitxer}', fontsize=font_title)\n",
        "    plt.show()\n",
        "\n",
        "def carregar_i_visualitzar(_=None):\n",
        "    clear_output(wait=True)\n",
        "    display(widgets.HTML(\"<h3>Puja manualment el fitxer .zip, .res o .result:</h3>\"))\n",
        "    display(upload)\n",
        "    display(boto)\n",
        "\n",
        "    if len(upload.value) == 0:\n",
        "        print(\"Cap fitxer carregat.\")\n",
        "        return\n",
        "\n",
        "    nom_fitxer = list(upload.value.values())[0]['metadata']['name']\n",
        "    fitxer_bytes = list(upload.value.values())[0]['content']\n",
        "    with open(\"akta_input\", \"wb\") as f:\n",
        "        f.write(fitxer_bytes)\n",
        "\n",
        "    try:\n",
        "        f = io.StringIO()\n",
        "        with contextlib.redirect_stdout(f), warnings.catch_warnings():\n",
        "            warnings.filterwarnings(\"ignore\", category=FutureWarning)\n",
        "            data = pv.pycorn.load_uni_zip(\"akta_input\")\n",
        "\n",
        "        available_keys = list(data.keys())\n",
        "        df = pv.pycorn.utils.get_series_from_data(data, available_keys)\n",
        "\n",
        "        possibles_y2 = [col for col in available_keys if col not in [\"mL\", \"Fractions\", \"UV 1_280\", \"UV 2_260\"]]\n",
        "        y2_dropdown = widgets.Dropdown(options=[\"\"] + possibles_y2, description=\"Segon eix Y\")\n",
        "\n",
        "        uv_max = df[[\"UV 1_280\", \"UV 2_260\"]].max().max()\n",
        "        ml_max = df[\"mL\"].max()\n",
        "\n",
        "        xmin_box, xmin = slider_text_pair(\"xmin\", df[\"mL\"].min(), df[\"mL\"].min(), ml_max)\n",
        "        xmax_box, xmax = slider_text_pair(\"xmax\", ml_max, df[\"mL\"].min(), ml_max)\n",
        "        ymin_box, ymin = slider_text_pair(\"ymin\", 0, -100, uv_max + 50)\n",
        "        ymax_box, ymax = slider_text_pair(\"ymax\", uv_max + 50, 10, uv_max + 300)\n",
        "\n",
        "        default_y2 = \"Conc B\" if \"Conc B\" in df.columns else (possibles_y2[0] if possibles_y2 else \"\")\n",
        "        y2_dropdown.value = default_y2 if default_y2 in y2_dropdown.options else \"\"\n",
        "        y2_data = df[default_y2] if default_y2 else pd.Series([0])\n",
        "        y2max_init = y2_data.max() + 10\n",
        "\n",
        "        y2_ymin_box, y2_ymin = slider_text_pair(\"Y2 min\", 0, -20, y2max_init)\n",
        "        y2_ymax_box, y2_ymax = slider_text_pair(\"Y2 max\", y2max_init, 10, y2max_init + 50)\n",
        "\n",
        "        show_fractions = widgets.Checkbox(value=True, description='Mostrar fraccions')\n",
        "        tick_h_box, tick_h = slider_text_pair(\"tick height\", 10, 1, 50, step=1)\n",
        "        spacing_box, min_spacing = slider_text_pair(\"min spacing\", 1.0, 0.1, 10.0, step=0.1)\n",
        "        font_frac_box, font_frac = slider_text_pair(\"Font fraccions\", 12, 6, 30, step=1)\n",
        "\n",
        "        font_title_box, font_title = slider_text_pair(\"Font títol\", 18, 10, 30, step=1)\n",
        "        font_labels_box, font_labels = slider_text_pair(\"Font eixos\", 18, 10, 30, step=1)\n",
        "        font_ticks_box, font_ticks = slider_text_pair(\"Font ticks\", 18, 8, 30, step=1)\n",
        "        font_legend_box, font_legend = slider_text_pair(\"Font llegenda\", 18, 8, 30, step=1)\n",
        "\n",
        "        def on_y2_change(change):\n",
        "            if change['type'] == 'change' and change['name'] == 'value':\n",
        "                col = change['new']\n",
        "                if col and col in df.columns:\n",
        "                    s = df[col]\n",
        "                    y2_ymin.value = float(s.min()) - 5\n",
        "                    y2_ymax.value = float(s.max()) + 10\n",
        "        y2_dropdown.observe(on_y2_change)\n",
        "\n",
        "        col1 = widgets.VBox([xmin_box, xmax_box, ymin_box, ymax_box])\n",
        "        col2 = widgets.VBox([y2_ymin_box, y2_ymax_box, y2_dropdown])\n",
        "        col3 = widgets.VBox([show_fractions, tick_h_box, spacing_box, font_frac_box])\n",
        "        col4 = widgets.VBox([font_title_box, font_labels_box, font_ticks_box, font_legend_box])\n",
        "        controls = widgets.HBox([col1, col2, col3, col4])\n",
        "\n",
        "        def update_plot(**kwargs):\n",
        "            kwargs['nom_fitxer'] = nom_fitxer\n",
        "            plot_chromatogram(df, data, **kwargs)\n",
        "\n",
        "        out = widgets.interactive_output(update_plot, {\n",
        "            'xmin': xmin,\n",
        "            'xmax': xmax,\n",
        "            'ymin': ymin,\n",
        "            'ymax': ymax,\n",
        "            'y2_label': y2_dropdown,\n",
        "            'y2_ymin': y2_ymin,\n",
        "            'y2_ymax': y2_ymax,\n",
        "            'show_fractions': show_fractions,\n",
        "            'tick_h': tick_h,\n",
        "            'min_spacing': min_spacing,\n",
        "            'font_frac': font_frac,\n",
        "            'font_title': font_title,\n",
        "            'font_labels': font_labels,\n",
        "            'font_ticks': font_ticks,\n",
        "            'font_legend': font_legend\n",
        "        })\n",
        "\n",
        "        display(widgets.HTML(\"<hr><h4>Paràmetres del gràfic:</h4>\"))\n",
        "        display(controls, out)\n",
        "\n",
        "    except Exception as e:\n",
        "        print(f\"Error en carregar el fitxer: {e}\")\n",
        "\n",
        "boto.on_click(carregar_i_visualitzar)\n"
      ],
      "metadata": {
        "colab": {
          "base_uri": "https://localhost:8080/",
          "height": 132,
          "referenced_widgets": [
            "4bec676379674dbaa48b16615d43185b",
            "ee0d9680ab9e4d4e9af1e92bfd2e8cb1",
            "380e5380342e4bcba5d287c683949f94",
            "e4159b171745403fa0eed6537d9c6164",
            "6f7d292950af4adf8a2a0c0f6009047e",
            "6f4728423c2143cc8a7a2483cd67a7c6",
            "96416099093540e4b0a2ed9848e10a02",
            "8bccf2ec5cb140c393a0fd0bf0d76f0d",
            "8fee034c1811472f86e4972f10983e52"
          ]
        },
        "id": "DKwZWgQ_3cgh",
        "outputId": "3e5df7ae-6091-4314-d368-e4a7d7b918e0"
      },
      "execution_count": null,
      "outputs": [
        {
          "output_type": "display_data",
          "data": {
            "text/plain": [
              "HTML(value='<h3>Puja manualment el fitxer .zip, .res o .result:</h3>')"
            ],
            "application/vnd.jupyter.widget-view+json": {
              "version_major": 2,
              "version_minor": 0,
              "model_id": "4bec676379674dbaa48b16615d43185b"
            }
          },
          "metadata": {}
        },
        {
          "output_type": "display_data",
          "data": {
            "text/plain": [
              "FileUpload(value={}, accept='.zip,.res,.result', description='Upload')"
            ],
            "application/vnd.jupyter.widget-view+json": {
              "version_major": 2,
              "version_minor": 0,
              "model_id": "e4159b171745403fa0eed6537d9c6164"
            }
          },
          "metadata": {}
        },
        {
          "output_type": "display_data",
          "data": {
            "text/plain": [
              "Button(button_style='success', description='Mostrar cromatograma', style=ButtonStyle())"
            ],
            "application/vnd.jupyter.widget-view+json": {
              "version_major": 2,
              "version_minor": 0,
              "model_id": "96416099093540e4b0a2ed9848e10a02"
            }
          },
          "metadata": {}
        }
      ]
    }
  ]
}
